{
 "cells": [
  {
   "cell_type": "markdown",
   "id": "cba677be",
   "metadata": {},
   "source": [
    "latihan mandiri 1"
   ]
  },
  {
   "cell_type": "code",
   "execution_count": 1,
   "id": "c35204e7",
   "metadata": {},
   "outputs": [
    {
     "name": "stdout",
     "output_type": "stream",
     "text": [
      "11\n",
      "19\n",
      "5\n"
     ]
    }
   ],
   "source": [
    "def prime_numbers_up_to_n(n):\n",
    "    # membuat list kosong untuk menempatkan angka prima\n",
    "    find=[]\n",
    "    \n",
    "    # perulangan dari 2 sampai n\n",
    "    for i in range(2,n+1):\n",
    "        # perulangan dari 2 sampai i untuk di mod kan\n",
    "        for j in range(2,i):\n",
    "            # jika i % j = 0, break\n",
    "            if i % j == 0:\n",
    "                break\n",
    "        # selain itu adalah angka prima\n",
    "        else:\n",
    "            # mencari bilangan prima kurang dari n\n",
    "            if i < n:\n",
    "                # memasukannya ke list kosong\n",
    "                find.append(i)\n",
    "    # membalik listnya agar yang terbesar ada di yang paling pertama\n",
    "    find.reverse()\n",
    "    # print angka paling pertama di list\n",
    "    print(find[0])\n",
    "            \n",
    "# memanggil fungsi         \n",
    "prime_numbers_up_to_n(12) # expected output = 11\n",
    "prime_numbers_up_to_n(21) # expected output = 19\n",
    "prime_numbers_up_to_n(7) # expected output = 5"
   ]
  },
  {
   "cell_type": "markdown",
   "id": "646eb455",
   "metadata": {},
   "source": [
    "latihan mandiri 2"
   ]
  },
  {
   "cell_type": "code",
   "execution_count": 2,
   "id": "1f0527ac",
   "metadata": {},
   "outputs": [
    {
     "name": "stdout",
     "output_type": "stream",
     "text": [
      "720 6 5 4 3 2 1 \n",
      "120 5 4 3 2 1 \n",
      "24 4 3 2 1 \n",
      "6 3 2 1 \n",
      "2 2 1 \n",
      "1 1 \n"
     ]
    }
   ],
   "source": [
    "def deret_kali(n):\n",
    "    # membuat baris\n",
    "    for x in range(n,0,-1):\n",
    "        # angka total yang akan di kalikan\n",
    "        multi = 1\n",
    "        # perulangan untuk mengkalikan total angka baris\n",
    "        for y in range(2,x+1):\n",
    "            # mengkalikannya\n",
    "            multi*=y\n",
    "        # print hasil pengkalian nya di awal\n",
    "        print(multi,end=\" \")\n",
    "        # perulangan untuk angka yang di kalikan\n",
    "        for z in range(x,0,-1):\n",
    "            # print angka yang di kalikan dari paling besar ke kecil\n",
    "            print(z,end=\" \")\n",
    "        # print kosong untuk membentuk segitiga terbalik\n",
    "        print()\n",
    "\n",
    "# inputan user\n",
    "n = int(input(\"masukan input anda: \"))\n",
    "\n",
    "# memanggil fungsi\n",
    "deret_kali(n)"
   ]
  },
  {
   "cell_type": "markdown",
   "id": "b42ed7ab",
   "metadata": {},
   "source": [
    "latihan mandiri 3"
   ]
  },
  {
   "cell_type": "code",
   "execution_count": 3,
   "id": "ce11efce",
   "metadata": {},
   "outputs": [
    {
     "name": "stdout",
     "output_type": "stream",
     "text": [
      "1 2 3 4 \n",
      "5 6 7 8 \n",
      "9 10 11 12 \n",
      "13 14 15 16 \n",
      "17 18 19 20 \n"
     ]
    }
   ],
   "source": [
    "def lp(tinggi,lebar):\n",
    "    # rumus luas persegi panjang\n",
    "    lp = tinggi*lebar\n",
    "    # base untuk membuat baris\n",
    "    count = 0\n",
    "    # perulangan untuk membuat angka dari 1 sampai lp\n",
    "    for i in range(1, lp+1):\n",
    "        # output\n",
    "        print(i,end=\" \")\n",
    "        # menambah angka 1 ke count \n",
    "        count+=1\n",
    "        # jika count == lebar maka enter\n",
    "        if count == lebar:\n",
    "            # enter\n",
    "            print()\n",
    "            # reset count\n",
    "            count=0\n",
    "# memanggil fungsi\n",
    "lp(5,4)\n",
    "        "
   ]
  }
 ],
 "metadata": {
  "kernelspec": {
   "display_name": "Python 3",
   "language": "python",
   "name": "python3"
  },
  "language_info": {
   "codemirror_mode": {
    "name": "ipython",
    "version": 3
   },
   "file_extension": ".py",
   "mimetype": "text/x-python",
   "name": "python",
   "nbconvert_exporter": "python",
   "pygments_lexer": "ipython3",
   "version": "3.12.1"
  }
 },
 "nbformat": 4,
 "nbformat_minor": 5
}
